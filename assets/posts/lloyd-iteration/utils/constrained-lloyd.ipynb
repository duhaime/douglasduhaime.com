{
 "cells": [
  {
   "cell_type": "code",
   "execution_count": null,
   "metadata": {},
   "outputs": [],
   "source": [
    "from lloyd import Field\n",
    "from scipy.spatial import Voronoi, voronoi_plot_2d\n",
    "import matplotlib.pyplot as plt\n",
    "import numpy as np\n",
    "import umap, os\n",
    "\n",
    "np.random.seed(1144392507)\n",
    "\n",
    "def plot(vor, name):\n",
    "  '''Plot the Voronoi map of 2D numpy array X'''\n",
    "  plot = voronoi_plot_2d(vor, show_vertices=False, line_colors='y', line_alpha=0.5, point_size=5)\n",
    "  plot.set_figheight(14)\n",
    "  plot.set_figwidth(20)\n",
    "  e = 0.3\n",
    "  plt.axis([field.bb[0]-e, field.bb[1]+e, field.bb[2]-e, field.bb[3]+e])\n",
    "  if not os.path.exists('plots'): os.makedirs('plots')\n",
    "  if len(str(name)) < 2: name = '0' + str(name)\n",
    "  plot.savefig( 'plots/' + str(name) + '.png' )\n",
    "  \n",
    "# get 1000 observations in two dimensions and plot their Voronoi map\n",
    "X = np.random.rand(1000, 4)\n",
    "X = umap.UMAP().fit_transform(X)\n",
    "\n",
    "field = Field(X)\n",
    "for i in range(20):\n",
    "  plot(field.voronoi, i)\n",
    "  print(' * running iteration', i)\n",
    "  field.relax()"
   ]
  }
 ],
 "metadata": {
  "kernelspec": {
   "display_name": "Python 3",
   "language": "python",
   "name": "python3"
  },
  "language_info": {
   "codemirror_mode": {
    "name": "ipython",
    "version": 3
   },
   "file_extension": ".py",
   "mimetype": "text/x-python",
   "name": "python",
   "nbconvert_exporter": "python",
   "pygments_lexer": "ipython3",
   "version": "3.5.3"
  }
 },
 "nbformat": 4,
 "nbformat_minor": 2
}
