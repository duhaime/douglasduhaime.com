{
 "cells": [
  {
   "cell_type": "code",
   "execution_count": null,
   "metadata": {},
   "outputs": [],
   "source": [
    "from scipy.spatial import Voronoi, voronoi_plot_2d\n",
    "import matplotlib.pyplot as plt\n",
    "import numpy as np\n",
    "import umap, os\n",
    "\n",
    "def find_centroid(verts):\n",
    "  '''Return the centroid of a polygon described by `verts`'''\n",
    "  x = 0; y = 0; area = 0\n",
    "  for i in range(len(verts)-1):\n",
    "    step = (verts[i, 0] * verts[i+1, 1]) - (verts[i+1, 0] * verts[i, 1])\n",
    "    area += step\n",
    "    x += (verts[i, 0] + verts[i+1, 0]) * step\n",
    "    y += (verts[i, 1] + verts[i+1, 1]) * step\n",
    "  if area == 0: area += 0.01\n",
    "  return np.array([  (1/(3*area))*x,  (1/(3*area))*y  ])\n",
    "\n",
    "def lloyd_iterate(X):\n",
    "  voronoi = Voronoi(X, qhull_options='Qbb Qc Qx')\n",
    "  centroids = []\n",
    "  for i in voronoi.regions:\n",
    "    region = voronoi.vertices[i + [i[0]]]\n",
    "    centroids.append( find_centroid( region ) )\n",
    "  return np.array(centroids)\n",
    "\n",
    "def plot(X, name):\n",
    "  '''Plot the Voronoi map of 2D numpy array X'''\n",
    "  v = Voronoi(X, qhull_options='Qbb Qc Qx')\n",
    "  plot = voronoi_plot_2d(v, show_vertices=False, line_colors='y', line_alpha=0.5, point_size=5)\n",
    "  plot.set_figheight(14)\n",
    "  plot.set_figwidth(20)\n",
    "  plt.axis([-10, 10, -10, 10])\n",
    "  if not os.path.exists('plots'): os.makedirs('plots')\n",
    "  if len(str(name)) < 2: name = '0' + str(name)\n",
    "  plot.savefig( 'plots/' + str(name) + '.png' )\n",
    "  \n",
    "# get 1000 observations in two dimensions and plot their Voronoi map\n",
    "X = np.random.rand(1000, 4)\n",
    "X = umap.UMAP().fit_transform(X)\n",
    "plot(X, 0)\n",
    "\n",
    "# run several iterations, plotting each result\n",
    "for i in range(20):\n",
    "  i += 1\n",
    "  X = lloyd_iterate(X)\n",
    "  plot(X, i)"
   ]
  }
 ],
 "metadata": {
  "kernelspec": {
   "display_name": "Python 3",
   "language": "python",
   "name": "python3"
  },
  "language_info": {
   "codemirror_mode": {
    "name": "ipython",
    "version": 3
   },
   "file_extension": ".py",
   "mimetype": "text/x-python",
   "name": "python",
   "nbconvert_exporter": "python",
   "pygments_lexer": "ipython3",
   "version": "3.5.3"
  }
 },
 "nbformat": 4,
 "nbformat_minor": 2
}
